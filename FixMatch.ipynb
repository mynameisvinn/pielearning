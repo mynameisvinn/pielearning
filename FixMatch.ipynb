{
 "cells": [
  {
   "cell_type": "code",
   "execution_count": 85,
   "metadata": {},
   "outputs": [],
   "source": [
    "import torch\n",
    "import torch.nn as nn\n",
    "import torch.nn.functional as F\n",
    "import torch.optim as optim\n",
    "from torchvision import datasets, transforms\n",
    "import matplotlib.pyplot as plt\n",
    "import numpy as np\n",
    "import torchvision\n",
    "%matplotlib inline\n",
    "\n",
    "def imshow(img):\n",
    "    img = img / 2 + 0.5     # unnormalize\n",
    "    npimg = img.numpy()\n",
    "    plt.imshow(np.transpose(npimg, (1, 2, 0)))\n",
    "    plt.show()"
   ]
  },
  {
   "cell_type": "code",
   "execution_count": 113,
   "metadata": {},
   "outputs": [],
   "source": [
    "def fetch(k, b):\n",
    "    \"\"\"return dataloader corresponding to target k.\n",
    "    \"\"\"\n",
    "\n",
    "    # fetch dataset\n",
    "    dataset = datasets.MNIST('../data', train=False, download=True, transform=transforms.Compose([transforms.ToTensor(), transforms.Normalize((0.1307,), (0.3081,))]))\n",
    "\n",
    "    # select appropriate indices\n",
    "    idx = dataset.train_labels==k\n",
    "\n",
    "    # subset raw dataset by indices\n",
    "    dset_train = torch.utils.data.dataset.Subset(dataset, np.where(idx==True)[0])\n",
    "\n",
    "    # wrap dataset into a dataloader\n",
    "    dl_train = torch.utils.data.DataLoader(dset_train, batch_size=b, shuffle=True)\n",
    "    \n",
    "    return dl_train"
   ]
  },
  {
   "cell_type": "code",
   "execution_count": 50,
   "metadata": {},
   "outputs": [],
   "source": [
    "class Net(nn.Module):\n",
    "    def __init__(self):\n",
    "        super(Net, self).__init__()\n",
    "        self.conv1 = nn.Conv2d(in_channels=1, out_channels=32, kernel_size=3, stride=1)  # no padding so we lose 2 pixels\n",
    "        self.conv2 = nn.Conv2d(in_channels=32, out_channels=64, kernel_size=3, stride=1)  # no padding so we lose 2 pixels\n",
    "        self.dropout1 = nn.Dropout2d(p=0.25)\n",
    "        self.dropout2 = nn.Dropout2d(p=0.5)\n",
    "        self.fc1 = nn.Linear(in_features=64*12*12, out_features=128)\n",
    "        self.fc2 = nn.Linear(in_features=128, out_features=10)\n",
    "\n",
    "    def forward(self, x):\n",
    "        x = self.conv1(x)  # input becomes 32x26x26\n",
    "        x = F.relu(x)\n",
    "        x = self.conv2(x)  # input becomes 64x24x24\n",
    "        x = F.max_pool2d(x, kernel_size=2)  # input becomes 64x12x12\n",
    "        x = self.dropout1(x)\n",
    "        x = torch.flatten(x, 1)  # flatten into a single 9,216 dim vector\n",
    "        x = self.fc1(x)  # input goes from 9216 to 128\n",
    "        x = F.relu(x)\n",
    "        x = self.dropout2(x)\n",
    "        x = self.fc2(x)  # input goes from 128 to 10\n",
    "        return x"
   ]
  },
  {
   "cell_type": "code",
   "execution_count": 121,
   "metadata": {},
   "outputs": [],
   "source": [
    "model = Net()\n",
    "optimizer = optim.Adadelta(model.parameters(), lr=1e-3)"
   ]
  },
  {
   "cell_type": "code",
   "execution_count": 122,
   "metadata": {},
   "outputs": [
    {
     "name": "stderr",
     "output_type": "stream",
     "text": [
      "Clipping input data to the valid range for imshow with RGB data ([0..1] for floats or [0..255] for integers).\n"
     ]
    },
    {
     "data": {
      "image/png": "[encoded data removed]",
      "text/plain": [
       "<Figure size 432x288 with 1 Axes>"
      ]
     },
     "metadata": {
      "needs_background": "light"
     },
     "output_type": "display_data"
    }
   ],
   "source": [
    "d = fetch(7, 2)\n",
    "dataiter = iter(d)\n",
    "X_l, y_l = dataiter.next()\n",
    "imshow(torchvision.utils.make_grid(X_l))"
   ]
  },
  {
   "cell_type": "code",
   "execution_count": 123,
   "metadata": {},
   "outputs": [
    {
     "name": "stdout",
     "output_type": "stream",
     "text": [
      "2.2059035301208496\n",
      "tensor([[9],\n",
      "        [3]])\n",
      "2.214153528213501\n",
      "tensor([[9],\n",
      "        [9]])\n",
      "2.1456775665283203\n",
      "tensor([[7],\n",
      "        [7]])\n",
      "2.101571798324585\n",
      "tensor([[9],\n",
      "        [7]])\n",
      "2.101774215698242\n",
      "tensor([[7],\n",
      "        [7]])\n",
      "1.974748134613037\n",
      "tensor([[7],\n",
      "        [7]])\n",
      "1.986077070236206\n",
      "tensor([[7],\n",
      "        [7]])\n",
      "1.9112563133239746\n",
      "tensor([[7],\n",
      "        [7]])\n",
      "1.869182825088501\n",
      "tensor([[7],\n",
      "        [7]])\n",
      "1.7977864742279053\n",
      "tensor([[7],\n",
      "        [7]])\n"
     ]
    }
   ],
   "source": [
    "n_epochs = 100\n",
    "\n",
    "for i in range(n_epochs):\n",
    "    \n",
    "    # step 1: train on labeled data\n",
    "    optimizer.zero_grad()\n",
    "    output = model(X_l)\n",
    "    loss = F.cross_entropy(output, y_l)\n",
    "    loss.backward()\n",
    "    optimizer.step()\n",
    "    if i % (n_epochs / 10) == 0:\n",
    "        print(loss.item())\n",
    "        \n",
    "    # step 2: view probabilities on unlabeled data\n",
    "    X_u, y_u = dataiter.next()\n",
    "    output = model(X_u)\n",
    "    probs = F.softmax(output, dim=1)\n",
    "    pred = probs.argmax(dim=1, keepdim=True)\n",
    "    if i % (n_epochs / 10) == 0:\n",
    "        print(pred)"
   ]
  }
 ],
 "metadata": {
  "kernelspec": {
   "display_name": "Python 3",
   "language": "python",
   "name": "python3"
  },
  "language_info": {
   "codemirror_mode": {
    "name": "ipython",
    "version": 3
   },
   "file_extension": ".py",
   "mimetype": "text/x-python",
   "name": "python",
   "nbconvert_exporter": "python",
   "pygments_lexer": "ipython3",
   "version": "3.7.3"
  }
 },
 "nbformat": 4,
 "nbformat_minor": 2
}
