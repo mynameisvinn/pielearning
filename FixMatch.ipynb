{
 "cells": [
  {
   "cell_type": "code",
   "execution_count": null,
   "metadata": {},
   "outputs": [],
   "source": [
    "import torch\n",
    "import torch.nn as nn\n",
    "import torch.nn.functional as F\n",
    "import torch.optim as optim\n",
    "from torchvision import datasets, transforms\n",
    "import matplotlib.pyplot as plt\n",
    "import numpy as np\n",
    "import torchvision\n",
    "%matplotlib inline\n",
    "\n",
    "def imshow(img):\n",
    "    img = img / 2 + 0.5     # unnormalize\n",
    "    npimg = img.numpy()\n",
    "    plt.imshow(np.transpose(npimg, (1, 2, 0)))\n",
    "    plt.show()"
   ]
  },
  {
   "cell_type": "code",
   "execution_count": null,
   "metadata": {},
   "outputs": [],
   "source": [
    "class Net(nn.Module):\n",
    "    def __init__(self):\n",
    "        super(Net, self).__init__()\n",
    "        self.conv1 = nn.Conv2d(in_channels=1, out_channels=32, kernel_size=3, stride=1)  # no padding so we lose 2 pixels\n",
    "        self.conv2 = nn.Conv2d(in_channels=32, out_channels=64, kernel_size=3, stride=1)  # no padding so we lose 2 pixels\n",
    "        self.dropout1 = nn.Dropout2d(p=0.25)\n",
    "        self.dropout2 = nn.Dropout2d(p=0.5)\n",
    "        self.fc1 = nn.Linear(in_features=64*12*12, out_features=128)\n",
    "        self.fc2 = nn.Linear(in_features=128, out_features=10)\n",
    "\n",
    "    def forward(self, x):\n",
    "        x = self.conv1(x)  # input becomes 32x26x26\n",
    "        x = F.relu(x)\n",
    "        x = self.conv2(x)  # input becomes 64x24x24\n",
    "        x = F.max_pool2d(x, kernel_size=2)  # input becomes 64x12x12\n",
    "        x = self.dropout1(x)\n",
    "        x = torch.flatten(x, 1)  # flatten into a single 9,216 dim vector\n",
    "        x = self.fc1(x)  # input goes from 9216 to 128\n",
    "        x = F.relu(x)\n",
    "        x = self.dropout2(x)\n",
    "        x = self.fc2(x)  # input goes from 128 to 10\n",
    "        return x"
   ]
  },
  {
   "cell_type": "code",
   "execution_count": null,
   "metadata": {},
   "outputs": [],
   "source": [
    "model = Net()\n",
    "optimizer = optim.SGD(model.parameters(), lr=1e-3)"
   ]
  },
  {
   "cell_type": "code",
   "execution_count": null,
   "metadata": {},
   "outputs": [],
   "source": [
    "batch = 30\n",
    "nb_digits = 10\n",
    "\n",
    "# define a transformation pipeline for our raw data\n",
    "transform = transforms.Compose([transforms.ToTensor(), transforms.Normalize((0.5, 0.5, 0.5), (0.5, 0.5, 0.5))])\n",
    "dataset = torchvision.datasets.MNIST('../data', train=False, download=True, transform=transforms.Compose([transforms.ToTensor(), transforms.Normalize((0.1307,), (0.3081,))]))\n",
    "trainloader = torch.utils.data.DataLoader(dataset, batch_size=batch, shuffle=True)\n",
    "dataiter = iter(trainloader)\n",
    "\n",
    "X_train, y_train = dataiter.next()  # labelled data\n",
    "imshow(torchvision.utils.make_grid(X_train))"
   ]
  },
  {
   "cell_type": "code",
   "execution_count": null,
   "metadata": {},
   "outputs": [],
   "source": [
    "transform = transforms.Compose([transforms.ToTensor(), transforms.Normalize((0.5, 0.5, 0.5), (0.5, 0.5, 0.5))])\n",
    "dataset = torchvision.datasets.MNIST('../data', train=True, download=True, transform=transforms.Compose([transforms.ToTensor(), transforms.Normalize((0.1307,), (0.3081,))]))\n",
    "testloader = torch.utils.data.DataLoader(dataset, batch_size=10, shuffle=True)\n",
    "testdataiter = iter(testloader)"
   ]
  },
  {
   "cell_type": "code",
   "execution_count": null,
   "metadata": {},
   "outputs": [],
   "source": [
    "n_epochs = 350\n",
    "ratio = 5\n",
    "threshold = .2\n",
    "accuracy = []\n",
    "\n",
    "y_onehot = torch.FloatTensor(batch, nb_digits)  # empty buffer\n",
    "\n",
    "for i in range(n_epochs):\n",
    "    \n",
    "    for _ in range(ratio):\n",
    "        # step 1: train on labeled data, which is never updated\n",
    "        optimizer.zero_grad()\n",
    "        output = model(X_train)\n",
    "        loss = F.cross_entropy(output, y_train)\n",
    "        loss.backward()\n",
    "        optimizer.step()\n",
    "        \n",
    "    # step 2: view probabilities on unlabeled data\n",
    "    X_unlabeled, y_unlabeled = dataiter.next()  # representing weakly augmented and unlabeled data\n",
    "    output = model(X_unlabeled)\n",
    "    probs = F.softmax(output, dim=1)\n",
    "    pred = probs.argmax(dim=1, keepdim=True)\n",
    "\n",
    "    # step 3: train against pseudo labels only if it's high confidence\n",
    "    for a, b, c in zip(probs, pred, X_unlabeled):\n",
    "        if (a[b] > threshold):\n",
    "            \n",
    "            # step 4: generate strong augmentation data only if we'll use it\n",
    "            noise = torch.rand((1, 1, 28, 28))\n",
    "            X_strong = noise + c.unsqueeze(0)\n",
    "\n",
    "            # step 5: learn against pseudo labels\n",
    "            optimizer.zero_grad()\n",
    "            output = model(X_strong)\n",
    "            loss = F.cross_entropy(output, b)\n",
    "            loss.backward()\n",
    "            optimizer.step()\n",
    "                \n",
    "    # test\n",
    "    X_test, y_test = testdataiter.next()\n",
    "    correct = 0\n",
    "    output = model(X_test)\n",
    "    pred = output.argmax(dim=1, keepdim=True)\n",
    "    correct += pred.eq(y_test.view_as(pred)).sum().item()\n",
    "    accuracy.append(correct / len(y_test))\n",
    "    if i % (n_epochs / 50) == 0:\n",
    "        print(\"epoch:\", i, \"accuracy\", correct / len(y_test))\n",
    "    "
   ]
  },
  {
   "cell_type": "code",
   "execution_count": null,
   "metadata": {},
   "outputs": [],
   "source": [
    "plt.title(\"learning for a handful of labeled data\")\n",
    "plt.xlabel(\"epoch\")\n",
    "plt.ylabel(\"accuracy\")\n",
    "plt.plot(accuracy)"
   ]
  },
  {
   "cell_type": "code",
   "execution_count": null,
   "metadata": {},
   "outputs": [],
   "source": []
  }
 ],
 "metadata": {
  "kernelspec": {
   "display_name": "Python 3",
   "language": "python",
   "name": "python3"
  },
  "language_info": {
   "codemirror_mode": {
    "name": "ipython",
    "version": 3
   },
   "file_extension": ".py",
   "mimetype": "text/x-python",
   "name": "python",
   "nbconvert_exporter": "python",
   "pygments_lexer": "ipython3",
   "version": "3.7.3"
  }
 },
 "nbformat": 4,
 "nbformat_minor": 2
}
